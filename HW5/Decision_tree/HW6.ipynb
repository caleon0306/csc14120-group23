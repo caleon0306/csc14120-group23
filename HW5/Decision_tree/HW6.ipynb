{
 "cells": [
  {
   "cell_type": "markdown",
   "metadata": {},
   "source": [
    "# Homework 5 RF Accuracy Improvement\n",
    "\n",
    "This assignment is inspired by examples of Shan-Hung Wu from National Tsing Hua University.\n",
    "\n",
    "Requirement: improve the accuracy per feature of the following code from 0.03 up to at least 0.45 and accuracy should be more than 0.92\n",
    "\n",
    "Here are three hints:\n",
    "\n",
    "    You can improve the ratio by picking out or \"creating\" several features.\n",
    "    Tune hyperparameters\n",
    "    The ratio can be improved from 0.03 up to 0.47."
   ]
  },
  {
   "cell_type": "code",
   "execution_count": 3,
   "metadata": {},
   "outputs": [
    {
     "name": "stdout",
     "output_type": "stream",
     "text": [
      "Average Accuracy: 0.9455519329296692\n",
      "Accuracy Per Feature: 0.09455519329296692\n"
     ]
    }
   ],
   "source": [
    "from sklearn.model_selection import train_test_split, cross_val_score, GridSearchCV\n",
    "from sklearn.datasets import load_breast_cancer\n",
    "from sklearn.metrics import accuracy_score\n",
    "from sklearn.ensemble import RandomForestClassifier\n",
    "from sklearn.feature_selection import SelectFromModel\n",
    "\n",
    "\n",
    "# load the breast_cancer dataset\n",
    "init_data = load_breast_cancer()\n",
    "(X, y) = load_breast_cancer(return_X_y=True)\n",
    "\n",
    "# TODO Select some features (X), hint: based on the connections with\n",
    "# our Y (importance? correlation?)\n",
    "randomForestClass = RandomForestClassifier()\n",
    "randomForestClass.fit(X,y)\n",
    "model = SelectFromModel(randomForestClass, prefit = True)\n",
    "selectedX = model.transform(X)\n",
    "\n",
    "# TODO need 5 fold cross validation\n",
    "randomForest = RandomForestClassifier(n_estimators = 100, random_state = 0)\n",
    "scores = cross_val_score(randomForest, selectedX, y, cv=5)\n",
    "\n",
    "# TODO Tune parameters for RandomForestClassifier\n",
    "params = {\n",
    "    'n_estimators': [100, 200, 300],\n",
    "    'max_depth': [None, 5, 10],\n",
    "    'min_samples_split': [2,5, 10],\n",
    "    'min_samples_leaf': [1, 2, 4],\n",
    "    'max_features': ['sqrt', 'log2']\n",
    "}\n",
    "gridSearch = GridSearchCV(RandomForestClassifier(), params, cv = 5)\n",
    "gridSearch.fit(selectedX, y)\n",
    "bestRF = gridSearch.best_estimator_\n",
    "\n",
    "bestRFscores = cross_val_score(bestRF, selectedX, y, cv=5)\n",
    "\n",
    "\n",
    "# TODO Calculate Average accuracy score\n",
    "print(\"Average Accuracy:\", bestRFscores.mean())\n",
    "\n",
    "# TODO Calculate Average (accuracy score/number of features)\n",
    "avgAccPerFeature = bestRFscores.mean() / selectedX.shape[1]\n",
    "print(\"Accuracy Per Feature:\", avgAccPerFeature)"
   ]
  },
  {
   "cell_type": "code",
   "execution_count": null,
   "metadata": {},
   "outputs": [],
   "source": []
  }
 ],
 "metadata": {
  "kernelspec": {
   "display_name": "Python 3 (ipykernel)",
   "language": "python",
   "name": "python3"
  },
  "language_info": {
   "codemirror_mode": {
    "name": "ipython",
    "version": 3
   },
   "file_extension": ".py",
   "mimetype": "text/x-python",
   "name": "python",
   "nbconvert_exporter": "python",
   "pygments_lexer": "ipython3",
   "version": "3.8.10"
  }
 },
 "nbformat": 4,
 "nbformat_minor": 4
}
